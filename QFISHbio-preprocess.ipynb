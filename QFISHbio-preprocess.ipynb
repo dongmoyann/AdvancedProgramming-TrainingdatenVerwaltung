{
 "cells": [
  {
   "cell_type": "code",
   "execution_count": 1,
   "metadata": {},
   "outputs": [],
   "source": [
    "import os\n",
    "from os import listdir\n",
    "from os.path import isfile, join\n",
    "import numpy as np\n",
    "import pandas as pd \n",
    "import imutils\n",
    "import cv2\n",
    "from enum import Enum\n"
   ]
  },
  {
   "cell_type": "code",
   "execution_count": 2,
   "metadata": {},
   "outputs": [
    {
     "name": "stdout",
     "output_type": "stream",
     "text": [
      "1000\n",
      "1700\n"
     ]
    }
   ],
   "source": [
    "imgcount = 0\n",
    "\n",
    "basepath = r\"C:\\Users\\rembo\\Documents\\Research\\Fit4Research\\QFISH\\bio\"\n",
    "\n",
    "chrdestpath = join(basepath, r'chromosomes\\test')\n",
    "chrdestfilename = \"chr_{0:0=5d}.png\".format(imgcount);\n",
    "\n",
    "teldestpath = join(basepath, r'telomeres\\test')\n",
    "teldestfilename = \"png_{0:0=5d}.png\".format(imgcount);\n",
    "\n",
    "assert os.path.isdir(chrdestpath)\n",
    "assert os.path.isdir(teldestpath)\n",
    "\n",
    "orignamechr = 'orig0_chr_adj_1700-1000'\n",
    "orignametel = 'orig0_tel_adj_1700-1000'\n",
    "\n",
    "chrsourcepath = join(basepath, r'chromosomes\\orig')\n",
    "chrsourcefilename = orignamechr + '.png'\n",
    "chrsourcefullpath = join(chrsourcepath, chrsourcefilename)\n",
    "\n",
    "telsourcepath = join(basepath, r'telomeres\\orig')\n",
    "telsourcefilename = orignametel + '.png'\n",
    "telsourcefullpath = join(telsourcepath, telsourcefilename)\n",
    "\n",
    "\n",
    "assert os.path.isdir(chrsourcepath)\n",
    "assert os.path.isdir(telsourcepath)\n",
    "assert os.path.isfile(chrsourcefullpath)\n",
    "assert os.path.isfile(telsourcefullpath)\n",
    "\n",
    "f_name = \"/home/inf/Bilder/bio1/data/test_data.csv\"\n",
    "\n",
    "chrimg = cv2.imread(chrsourcefullpath,1)\n",
    "telimg = cv2.imread(telsourcefullpath,1)\n",
    "\n",
    "assert chrimg.shape == telimg.shape\n",
    "\n",
    "height= chrimg.shape[0]\n",
    "width= chrimg.shape[1]\n",
    "\n",
    "print(height)\n",
    "print(width)\n",
    "\n",
    "rectanglesize=min(height, width)//6\n",
    "crosssize=rectanglesize//12\n",
    "crossthick=1\n",
    "imgsize = 128\n",
    "rectsize = 80\n",
    "startpoint = (500,240)\n",
    "endpoint = (startpoint[0]+rectsize, startpoint[1]+rectsize )"
   ]
  },
  {
   "cell_type": "code",
   "execution_count": 3,
   "metadata": {},
   "outputs": [],
   "source": [
    "assert(os.path.isfile(chrsourcefullpath))\n",
    "assert(os.path.isfile(telsourcefullpath))\n",
    "\n",
    "chrimg = cv2.imread(chrsourcefullpath,1)\n",
    "telimg = cv2.imread(telsourcefullpath,1)\n",
    "\n",
    "chrimgrect = chrimg.copy()\n",
    "telimgrect = telimg.copy()"
   ]
  },
  {
   "cell_type": "code",
   "execution_count": 4,
   "metadata": {},
   "outputs": [
    {
     "name": "stdout",
     "output_type": "stream",
     "text": [
      "6\n"
     ]
    }
   ],
   "source": [
    "numofrects = min(int((chrimgrect.shape[1] - 2*startpoint[0])/rectsize),int((chrimgrect.shape[0] - 2*startpoint[1])/rectsize))\n",
    "print(numofrects)\n",
    "        "
   ]
  },
  {
   "cell_type": "code",
   "execution_count": 5,
   "metadata": {},
   "outputs": [],
   "source": [
    "def grid(chrimgrect, startpoint, rectsize, numofrects = None):\n",
    "    positions = []\n",
    "    if numofrects == None:\n",
    "        numofrects = min(int((chrimgrect.shape[1] - 2*startpoint[0])/rectsize),int((chrimgrect.shape[0] - 2*startpoint[1])/rectsize))\n",
    "    for i in range(numofrects):\n",
    "        for j in range(numofrects):\n",
    "            polygon = []\n",
    "            spoint = (startpoint[0]+i*rectsize, startpoint[1]+j*rectsize )\n",
    "            epoint = (startpoint[0]+i*rectsize + rectsize, startpoint[1]+j*rectsize + rectsize)\n",
    "            polygon.append(spoint)\n",
    "            polygon.append(epoint)\n",
    "            cnt = np.array(polygon)\n",
    "            positions.append(cv2.boundingRect(cnt))\n",
    "            #_,_,_,_ = cv2.boundingRect(cnt)\n",
    "            chrimgrect = cv2.rectangle(chrimgrect, spoint, epoint, (255,0,0), 1) \n",
    "    return chrimgrect, positions, numofrects"
   ]
  },
  {
   "cell_type": "code",
   "execution_count": 8,
   "metadata": {},
   "outputs": [],
   "source": [
    "positions = []\n",
    "numofrects = None\n",
    "\n",
    "while True:\n",
    "    chrimgrect = chrimg.copy()\n",
    "    positions.clear()\n",
    "    chrimgrect, positions, numofrects = grid(chrimgrect, startpoint, rectsize, numofrects)\n",
    "    cv2.imshow('chrimage',chrimgrect) \n",
    "    key=cv2.waitKeyEx(100)\n",
    "\n",
    "    if key & 0xFF == ord(\"q\") : \n",
    "        break\n",
    "    if key & 0xFF == ord(\"s\") :\n",
    "        i = 0\n",
    "        for position in positions:\n",
    "            single = np.zeros((rectsize,rectsize,chrimg.shape[2]), dtype=\"uint8\")\n",
    "            singlenorm = np.zeros((128,128,chrimg.shape[2]), dtype=\"uint8\")\n",
    "            x,y,w,h = position\n",
    "            assert (w-1) == rectsize and (h-1) == rectsize\n",
    "            single = chrimg.copy()[y:y+h-1,x:x+w-1,:]\n",
    "            assert single.shape[0] == rectsize and single.shape[1] == rectsize\n",
    "            fname = \"c{}_\".format(orignamechr) + \"{0:0=5d}.png\".format(i)\n",
    "            singlenorm = cv2.resize(single,(128,128), interpolation = cv2.INTER_AREA)\n",
    "            cv2.imwrite(join(chrdestpath,fname), singlenorm)      \n",
    "            single = telimg.copy()[y:y+h-1,x:x+w-1,:]\n",
    "            fname = \"t{}_\".format(orignametel) + \"{0:0=5d}.png\".format(i)   \n",
    "            singlenorm = cv2.resize(single,(128,128), interpolation = cv2.INTER_AREA)\n",
    "            cv2.imwrite(join(teldestpath,fname), singlenorm)\n",
    "            i += 1\n",
    "        break\n",
    "    if key & 0xFF == ord(\"+\") : \n",
    "        numofrects += 1\n",
    "    if key & 0xFF == ord(\"-\") :\n",
    "        if numofrects > 0:\n",
    "            numofrects -= 1        \n",
    "    if key == 2424832 : \n",
    "        if startpoint[0] - 20 > 0:\n",
    "            startpoint = (startpoint[0] - 20, startpoint[1] )\n",
    "    if key == 2490368 : \n",
    "        if startpoint[1] - 20 > 0:\n",
    "            startpoint = (startpoint[0], startpoint[1] - 20)\n",
    "    if key == 2555904 : \n",
    "        if startpoint[0] + 20 < chrimgrect.shape[1]:\n",
    "            startpoint = (startpoint[0] + 20, startpoint[1])\n",
    "    if key == 2621440 :\n",
    "        if startpoint[1] + 20 < chrimgrect.shape[0]:\n",
    "            startpoint = (startpoint[0], startpoint[1] + 20)\n",
    "\n",
    "\n",
    "cv2.destroyAllWindows() "
   ]
  },
  {
   "cell_type": "code",
   "execution_count": 7,
   "metadata": {},
   "outputs": [],
   "source": [
    "cv2.destroyAllWindows()"
   ]
  },
  {
   "cell_type": "code",
   "execution_count": 6,
   "metadata": {},
   "outputs": [],
   "source": [
    "cv2.imshow('telimage',telimgrect) \n",
    "key=cv2.waitKey(0)\n",
    "cv2.destroyAllWindows()"
   ]
  },
  {
   "cell_type": "code",
   "execution_count": null,
   "metadata": {},
   "outputs": [],
   "source": []
  }
 ],
 "metadata": {
  "kernelspec": {
   "display_name": "Python 3",
   "language": "python",
   "name": "python3"
  },
  "language_info": {
   "codemirror_mode": {
    "name": "ipython",
    "version": 3
   },
   "file_extension": ".py",
   "mimetype": "text/x-python",
   "name": "python",
   "nbconvert_exporter": "python",
   "pygments_lexer": "ipython3",
   "version": "3.7.4"
  }
 },
 "nbformat": 4,
 "nbformat_minor": 2
}
