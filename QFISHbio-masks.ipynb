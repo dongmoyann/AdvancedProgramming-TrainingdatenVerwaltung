{
 "cells": [
  {
   "cell_type": "code",
   "execution_count": 11,
   "metadata": {},
   "outputs": [],
   "source": [
    "import os\n",
    "from os import listdir\n",
    "from os.path import isfile, join\n",
    "import numpy as np\n",
    "import pandas as pd \n",
    "import imutils\n",
    "import cv2\n",
    "import random\n",
    "from enum import Enum\n",
    "#from keras_segmentation.models.segnet import segnet\n"
   ]
  },
  {
   "cell_type": "code",
   "execution_count": 12,
   "metadata": {},
   "outputs": [],
   "source": [
    "class Mode(Enum):\n",
    "    CHROM = 0\n",
    "    TELO = 1"
   ]
  },
  {
   "cell_type": "code",
   "execution_count": 13,
   "metadata": {},
   "outputs": [],
   "source": [
    "#csvtrainname = '/home/inf/Bilder/bio1/data/train_data.csv'\n",
    "#csvvalidname = '/home/inf/Bilder/bio1/data/valid_data.csv'\n",
    "#csvtestname = '/home/inf/Bilder/bio1/data/test_data.csv'\n",
    "\n",
    "#csvname = csvtestname\n",
    "\n",
    "basepath = r\"C:\\Users\\rembo\\Documents\\Research\\Fit4Research\\QFISH\\bio\"\n",
    "\n",
    "chrtraindestpath = join(basepath, r'chromosomes\\train')\n",
    "teltraindestpath = join(basepath, r'telomeres\\train')\n",
    "\n",
    "chrvaliddestpath = join(basepath, r'chromosomes\\valid')\n",
    "telvaliddestpath = join(basepath, r'telomeres\\valid')\n",
    "\n",
    "chrtestdestpath = join(basepath, r'chromosomes\\test')\n",
    "teltestdestpath = join(basepath, r'telomeres\\test')\n",
    "\n",
    "assert(os.path.isdir(chrtraindestpath))\n",
    "assert(os.path.isdir(teltraindestpath))\n",
    "assert(os.path.isdir(chrvaliddestpath))\n",
    "assert(os.path.isdir(telvaliddestpath))\n",
    "assert(os.path.isdir(chrtestdestpath))\n",
    "assert(os.path.isdir(teltestdestpath))\n",
    "\n",
    "chrdestpath = chrtestdestpath\n",
    "teldestpath = teltestdestpath\n",
    "\n",
    "chrtrainmaskpath = join(basepath, r'chromosomes\\masks\\train')\n",
    "teltrainmaskpath = join(basepath, r'telomeres\\masks\\train')\n",
    "\n",
    "chrvalidmaskpath = join(basepath, r'chromosomes\\masks\\valid')\n",
    "telvalidmaskpath = join(basepath, r'telomeres\\masks\\valid')\n",
    "\n",
    "chrtestmaskpath = join(basepath, r'chromosomes\\masks\\test')\n",
    "teltestmaskpath = join(basepath, r'telomeres\\masks\\test')\n",
    "\n",
    "assert(os.path.isdir(chrtrainmaskpath))\n",
    "assert(os.path.isdir(teltrainmaskpath))\n",
    "assert(os.path.isdir(chrvalidmaskpath))\n",
    "assert(os.path.isdir(telvalidmaskpath))\n",
    "assert(os.path.isdir(chrtestmaskpath))\n",
    "assert(os.path.isdir(teltestmaskpath))\n",
    "\n",
    "chrmaskpath = chrtestmaskpath\n",
    "telmaskpath = teltestmaskpath\n",
    "\n",
    "\n",
    "\n",
    "imgcount = 0;\n",
    "imgsize = 128"
   ]
  },
  {
   "cell_type": "code",
   "execution_count": 14,
   "metadata": {},
   "outputs": [],
   "source": [
    "# probably not needed\n",
    "def write(fname, chrname, telname, cb, cc, tb, tc): \n",
    "  \n",
    "    if isfile(fname): \n",
    "  \n",
    "        df = pd.read_csv(f_name, index_col = 0) \n",
    " \n",
    "        data = [{'chr': chrname, 'tel': telname, 'cbright': cb, 'ccontrast': cc, 'tbright': tb, 'tcontrast':tc}] \n",
    "  \n",
    "        # Creates DataFrame. \n",
    "        latest = pd.DataFrame(data) \n",
    "\n",
    "\n",
    "        df = pd.concat((df, latest), ignore_index = True, sort = False) \n",
    "  \n",
    "    else: \n",
    "  \n",
    "        # Providing range only because the data \n",
    "        # here is already flattened for when \n",
    "        # it was store in f_list\n",
    "        data = [{'chr': chrname, 'tel': telname, 'cbright': cb, 'ccontrast':cc, 'tbright': tb, 'tcontrast':tc}] \n",
    "        df = pd.DataFrame(data) \n",
    "\n",
    "    df.to_csv(fname) "
   ]
  },
  {
   "cell_type": "code",
   "execution_count": 15,
   "metadata": {},
   "outputs": [],
   "source": [
    "def makecolor(chromo, telo):\n",
    "    global chromothresh\n",
    "    global telothresh\n",
    "    chromogray = cv2.cvtColor(chromo, cv2.COLOR_BGR2GRAY)\n",
    "    telogray = cv2.cvtColor(telo, cv2.COLOR_BGR2GRAY)\n",
    "    \n",
    "    imgret = np.zeros((imgsize, imgsize,3), np.uint8)\n",
    "    \n",
    "    imgret[0:imgsize, 0:imgsize,1] = chromogray\n",
    "    imgret[0:imgsize, 0:imgsize,0] = telogray\n",
    "    \n",
    "    return imgret"
   ]
  },
  {
   "cell_type": "code",
   "execution_count": 16,
   "metadata": {},
   "outputs": [],
   "source": [
    "def apply_brightness_contrast(input_img, brightness = 0, contrast = 0):\n",
    "\n",
    "    if brightness != 0:\n",
    "        if brightness > 0:\n",
    "            shadow = brightness\n",
    "            highlight = 255\n",
    "        else:\n",
    "            shadow = 0\n",
    "            highlight = 255 + brightness\n",
    "        alpha_b = (highlight - shadow)/255\n",
    "        gamma_b = shadow\n",
    "        buf = cv2.addWeighted(input_img, alpha_b, input_img, 0, gamma_b)\n",
    "    else:\n",
    "        buf = input_img.copy()\n",
    "\n",
    "    if contrast != 0:\n",
    "        f = 131*(contrast + 127)/(127*(131-contrast))\n",
    "        alpha_c = f\n",
    "        gamma_c = 127*(1-f)\n",
    "\n",
    "        buf = cv2.addWeighted(buf, alpha_c, buf, 0, gamma_c)\n",
    "\n",
    "    return buf"
   ]
  },
  {
   "cell_type": "code",
   "execution_count": 17,
   "metadata": {},
   "outputs": [
    {
     "name": "stdout",
     "output_type": "stream",
     "text": [
      "C:\\Users\\rembo\\Documents\\Research\\Fit4Research\\QFISH\\bio\\chromosomes\\test\n",
      "C:\\Users\\rembo\\Documents\\Research\\Fit4Research\\QFISH\\bio\\chromosomes\\masks\\test\n"
     ]
    }
   ],
   "source": [
    "print(chrdestpath)\n",
    "print(chrmaskpath)\n"
   ]
  },
  {
   "cell_type": "code",
   "execution_count": null,
   "metadata": {},
   "outputs": [],
   "source": []
  },
  {
   "cell_type": "code",
   "execution_count": 18,
   "metadata": {},
   "outputs": [
    {
     "name": "stdout",
     "output_type": "stream",
     "text": [
      "0\n"
     ]
    }
   ],
   "source": [
    "files = []\n",
    "\n",
    "for file in os.listdir(chrmaskpath):\n",
    "    if file.endswith(\".png\"):\n",
    "        files.append(file)\n",
    "        \n",
    "files.sort()\n",
    "        \n",
    "#for file in files:\n",
    "#    print(file)\n",
    "    \n",
    "#print(files[len(files)-1])\n",
    "\n",
    "#imgcount = getnumofelements(csvname)\n",
    "#print(imgcount)\n",
    "print(len(files))"
   ]
  },
  {
   "cell_type": "code",
   "execution_count": 19,
   "metadata": {},
   "outputs": [
    {
     "name": "stdout",
     "output_type": "stream",
     "text": [
      "C:\\Users\\rembo\\Documents\\Research\\Fit4Research\\QFISH\\bio\\chromosomes\\test\n",
      "C:\\Users\\rembo\\Documents\\Research\\Fit4Research\\QFISH\\bio\\chromosomes\\masks\\test\n",
      "64\n"
     ]
    }
   ],
   "source": [
    "#chrdestpath = chrtraindestpath\n",
    "#teldestpath = teltraindestpath\n",
    "\n",
    "#chrmaskpath = chrtrainmaskpath\n",
    "#telmaskpath = teltrainmaskpath\n",
    "\n",
    "chrlist = []\n",
    "tellist = []\n",
    "\n",
    "for file in os.listdir(chrdestpath):\n",
    "    if file.endswith(\".png\"):\n",
    "        chrlist.append(os.path.join(chrdestpath, file))\n",
    "        \n",
    "for file in os.listdir(teldestpath):\n",
    "    if file.endswith(\".png\"):\n",
    "        tellist.append(os.path.join(teldestpath, file))\n",
    "    \n",
    "chrlist.sort()\n",
    "tellist.sort()\n",
    "assert len(chrlist) == len(tellist)\n",
    "for i in range(len(chrlist)):\n",
    "    #print(chrlist[i][:])\n",
    "    #print(tellist[i][:])\n",
    "    assert chrlist[i][-11:] == tellist[i][-11:]\n",
    "print(chrdestpath)\n",
    "print(chrmaskpath)\n",
    "print(len(tellist))"
   ]
  },
  {
   "cell_type": "code",
   "execution_count": 20,
   "metadata": {},
   "outputs": [
    {
     "name": "stdout",
     "output_type": "stream",
     "text": [
      "64\n"
     ]
    }
   ],
   "source": [
    "imgcount = len(chrlist)\n",
    "print(imgcount)\n",
    "\n",
    "#files = []\n",
    "#for file in os.listdir(telmaskpath):\n",
    "#    if file.endswith(\".png\"):\n",
    "#        files.append(file)    \n",
    "#files.sort()\n",
    "#\n",
    "#print(len(files))\n",
    "\n",
    "cv2.namedWindow('mask')\n",
    "theEnd = False\n",
    "theNext = False\n",
    "theThresh = False\n",
    "mode = Mode.CHROM\n",
    "thresh = 127\n",
    "\n",
    "imgstart = 0\n",
    "assert imgstart < imgcount\n",
    "\n",
    "#df = pd.read_csv(csvname, index_col = 0) \n",
    "\n",
    "for i in range(imgstart, imgcount):\n",
    "\n",
    "    contrast = 0\n",
    "    bright = 0\n",
    "\n",
    "    #if imgcount != 0:\n",
    "    #    if row[\"tel\"] <= files[len(files)-1]:\n",
    "    #        continue\n",
    "\n",
    "    while True:    \n",
    "\n",
    "        chrimg = cv2.imread(chrlist[i],1)\n",
    "        telimg = cv2.imread(tellist[i],1)\n",
    "    \n",
    "        if mode == Mode.CHROM:\n",
    "            conc = chrimg\n",
    "        else:\n",
    "            conc = telimg\n",
    "    \n",
    "        concimg=apply_brightness_contrast(conc, bright, contrast)\n",
    "    \n",
    "        conccolor = makecolor(chrimg, telimg)\n",
    "    \n",
    "\n",
    "        \n",
    "        if theThresh == True:\n",
    "            ret,concimg=cv2.threshold(concimg,thresh,255,cv2.THRESH_BINARY)\n",
    "            concimgdisp = cv2.addWeighted(concimg, 0.3, conccolor, 0.7, 0) \n",
    "        else:\n",
    "            concimgdisp = concimg.copy()\n",
    "    \n",
    "        if mode == Mode.CHROM:\n",
    "            cv2.putText(concimgdisp,os.path.basename(chrlist[i][:-4]), (2,12), cv2.FONT_HERSHEY_SIMPLEX, 0.4, (0, 255, 0), 1, cv2.LINE_AA)\n",
    "        else:\n",
    "            cv2.putText(concimgdisp,os.path.basename(tellist[i][:-4]), (2,12), cv2.FONT_HERSHEY_SIMPLEX, 0.4, (0, 255, 0), 1, cv2.LINE_AA)\n",
    "        #cv2.putText(concimgdisp,\"b:{}\".format(bright), (2,22), cv2.FONT_HERSHEY_SIMPLEX, 0.4, (0, 255, 0), 1, cv2.LINE_AA)\n",
    "        #cv2.putText(concimgdisp,\"c:{}\".format(contrast), (2,32), cv2.FONT_HERSHEY_SIMPLEX, 0.4, (0, 255, 0), 1, cv2.LINE_AA)\n",
    "        cv2.putText(concimgdisp,\"t:{}\".format(thresh), (2,42), cv2.FONT_HERSHEY_SIMPLEX, 0.4, (0, 255, 0), 1, cv2.LINE_AA)\n",
    "\n",
    "        while True:\n",
    "            cv2.imshow('mask',concimgdisp)\n",
    "            key = cv2.waitKey(1)\n",
    "            if key & 0xFF == ord(\"q\") :\n",
    "                theEnd = True\n",
    "                break\n",
    "            if key & 0xFF == ord(\"s\") :\n",
    "                if mode == Mode.CHROM and theThresh == True:\n",
    "                    cv2.imwrite(join(chrmaskpath,os.path.basename(chrlist[i])), concimg)\n",
    "                    theNext = True\n",
    "                elif mode == Mode.TELO and theThresh == True:\n",
    "                    cv2.imwrite(join(telmaskpath,os.path.basename(tellist[i])), concimg)\n",
    "                    theNext = True\n",
    "                break\n",
    "            if key & 0xFF == ord(\"n\") :\n",
    "                theNext = True\n",
    "                break\n",
    "            if key & 0xFF == ord(\"i\") :\n",
    "                bright = bright + 1\n",
    "                theThresh = False\n",
    "                break\n",
    "            if key & 0xFF == ord(\"k\") :\n",
    "                bright = bright - 1\n",
    "                theThresh = False\n",
    "                break\n",
    "            if key & 0xFF == ord(\"o\") :\n",
    "                contrast = contrast + 1\n",
    "                theThresh = False\n",
    "                break\n",
    "            if key & 0xFF == ord(\"l\") :\n",
    "                contrast = contrast - 1\n",
    "                theThresh = False\n",
    "                break\n",
    "            if key & 0xFF == ord(\"u\") :\n",
    "                thresh = thresh + 1\n",
    "                theThresh = True\n",
    "                break\n",
    "            if key & 0xFF == ord(\"j\") :\n",
    "                thresh = thresh - 1\n",
    "                theThresh = True\n",
    "                break  \n",
    "            if key & 0xFF == ord(\"c\") :\n",
    "                if mode == Mode.TELO:\n",
    "                    mode = Mode.CHROM\n",
    "                break\n",
    "            if key & 0xFF == ord(\"t\") :\n",
    "                if mode == Mode.CHROM:\n",
    "                    mode = Mode.TELO\n",
    "                break\n",
    "        if theEnd == True:\n",
    "            break\n",
    "        if theNext == True:\n",
    "            theNext = False\n",
    "            break\n",
    "            \n",
    "    if theEnd == True:\n",
    "        break      \n",
    "        \n",
    " \n",
    "cv2.destroyAllWindows()"
   ]
  },
  {
   "cell_type": "code",
   "execution_count": 13,
   "metadata": {},
   "outputs": [],
   "source": [
    "cv2.destroyAllWindows()"
   ]
  },
  {
   "cell_type": "code",
   "execution_count": 16,
   "metadata": {},
   "outputs": [
    {
     "data": {
      "text/plain": [
       "1"
      ]
     },
     "execution_count": 16,
     "metadata": {},
     "output_type": "execute_result"
    }
   ],
   "source": [
    "2//2"
   ]
  },
  {
   "cell_type": "code",
   "execution_count": null,
   "metadata": {},
   "outputs": [],
   "source": []
  },
  {
   "cell_type": "code",
   "execution_count": 42,
   "metadata": {},
   "outputs": [],
   "source": [
    "import matplotlib.pyplot as plt\n",
    "%matplotlib inline\n",
    "\n",
    "\n",
    "def showpics(chrlist, orglist, lastpics=10):\n",
    "\n",
    "    assert lastpics <= len(chrlist)\n",
    "    assert len(chrlist) == len(orglist)\n",
    "    chrtail = chrlist[len(chrlist)-lastpics:]\n",
    "    orgtail = orglist[len(orglist)-lastpics:]\n",
    "\n",
    "    columns = 5\n",
    "    rows = lastpics//columns\n",
    "    fig=plt.figure(figsize=(15, 2*rows))\n",
    "    for i in range(columns*rows):\n",
    "        \n",
    "        #ret,thresh1 = cv2.threshold(chrtail[i],1,255,cv2.THRESH_BINARY)\n",
    "        #ret,thresh2 = cv2.threshold(chrtail[i],0,2,cv2.THRESH_BINARY)\n",
    "        thresh1 = (chrtail[i]%2)*254\n",
    "        thresh2 = (chrtail[i]//2)*254\n",
    "\n",
    "\n",
    "        \n",
    "        imgresult = np.zeros((imgsize, imgsize, 3), np.uint8)\n",
    "        imgresult[:,:,0]=thresh1\n",
    "        imgresult[:,:,1]=thresh2   \n",
    "        fig.add_subplot(rows, columns, i+1)\n",
    "        #plt.imshow(chrtail[i]*127)\n",
    "        plt.imshow(cv2.addWeighted(imgresult, 0.2, orgtail[i], 0.8, 0))\n",
    "        #plt.imshow(imgresult)\n",
    "        "
   ]
  },
  {
   "cell_type": "code",
   "execution_count": 43,
   "metadata": {},
   "outputs": [
    {
     "ename": "AssertionError",
     "evalue": "",
     "output_type": "error",
     "traceback": [
      "\u001b[1;31m---------------------------------------------------------------------------\u001b[0m",
      "\u001b[1;31mAssertionError\u001b[0m                            Traceback (most recent call last)",
      "\u001b[1;32m<ipython-input-43-5643c7608189>\u001b[0m in \u001b[0;36m<module>\u001b[1;34m\u001b[0m\n\u001b[0;32m     11\u001b[0m \u001b[1;32massert\u001b[0m \u001b[0mlen\u001b[0m\u001b[1;33m(\u001b[0m\u001b[0mtellist\u001b[0m\u001b[1;33m)\u001b[0m \u001b[1;33m==\u001b[0m \u001b[0mlen\u001b[0m\u001b[1;33m(\u001b[0m\u001b[0mchrlist\u001b[0m\u001b[1;33m)\u001b[0m\u001b[1;33m\u001b[0m\u001b[1;33m\u001b[0m\u001b[0m\n\u001b[0;32m     12\u001b[0m \u001b[1;32massert\u001b[0m \u001b[0mfirst\u001b[0m \u001b[1;33m<\u001b[0m \u001b[0mlast\u001b[0m\u001b[1;33m\u001b[0m\u001b[1;33m\u001b[0m\u001b[0m\n\u001b[1;32m---> 13\u001b[1;33m \u001b[1;32massert\u001b[0m \u001b[0mlast\u001b[0m\u001b[1;33m<\u001b[0m \u001b[0mimgcount\u001b[0m\u001b[1;33m\u001b[0m\u001b[1;33m\u001b[0m\u001b[0m\n\u001b[0m\u001b[0;32m     14\u001b[0m \u001b[1;33m\u001b[0m\u001b[0m\n\u001b[0;32m     15\u001b[0m \u001b[1;32mfor\u001b[0m \u001b[0mi\u001b[0m \u001b[1;32min\u001b[0m \u001b[0mrange\u001b[0m\u001b[1;33m(\u001b[0m\u001b[0mfirst\u001b[0m\u001b[1;33m,\u001b[0m \u001b[0mlast\u001b[0m\u001b[1;33m)\u001b[0m\u001b[1;33m:\u001b[0m\u001b[1;33m\u001b[0m\u001b[1;33m\u001b[0m\u001b[0m\n",
      "\u001b[1;31mAssertionError\u001b[0m: "
     ]
    }
   ],
   "source": [
    "imglist = []\n",
    "orglist = []\n",
    "\n",
    "i = 0\n",
    "imgsize = 128\n",
    "\n",
    "first = 300\n",
    "last =  340\n",
    "\n",
    "assert imgcount == len(tellist)\n",
    "assert len(tellist) == len(chrlist)\n",
    "assert first < last\n",
    "assert last< imgcount\n",
    "\n",
    "for i in range(first, last):\n",
    "\n",
    "    \n",
    "        chrimg = cv2.imread(join(chrmaskpath,chrlist[i]),1)\n",
    "        telimg = cv2.imread(join(telmaskpath,tellist[i]),1)\n",
    "        chrdest = cv2.imread(join(chrdestpath,chrlist[i]),1)\n",
    "        teldest = cv2.imread(join(teldestpath,tellist[i]),1)\n",
    "        \n",
    "        telimg_inv = cv2.bitwise_not(telimg)\n",
    "        chrimg_and = cv2.bitwise_and(chrimg, telimg_inv)\n",
    "        \n",
    "        telgray = cv2.cvtColor(telimg, cv2.COLOR_BGR2GRAY)\n",
    "        chrgray = cv2.cvtColor(chrimg_and, cv2.COLOR_BGR2GRAY)\n",
    "        \n",
    "        telgray = (telgray) // 127\n",
    "        chrgray = (chrgray) // 254\n",
    "        \n",
    "        #imgresult = np.zeros((imgsize, imgsize,1), np.uint8)\n",
    "        #imgresult[0:imgsize, 0:imgsize,1] = chrgray\n",
    "        #imgresult[0:imgsize, 0:imgsize,0] = telgray\n",
    "        \n",
    "        imgresult = cv2.bitwise_or(chrgray, telgray)\n",
    "        #imgresult = chrgray\n",
    "        \n",
    "        #print(imgresult.shape)\n",
    "        \n",
    "        #print(chrimg.shape)\n",
    "        assert(chrimg.shape == telimg.shape)\n",
    "           \n",
    "        \n",
    "        if i > last:\n",
    "            break\n",
    "            \n",
    "        imglist.append(imgresult)\n",
    "        orglist.append(makecolor(chrdest, teldest))\n",
    "        i = i + 1"
   ]
  },
  {
   "cell_type": "code",
   "execution_count": 44,
   "metadata": {},
   "outputs": [
    {
     "ename": "AssertionError",
     "evalue": "",
     "output_type": "error",
     "traceback": [
      "\u001b[1;31m---------------------------------------------------------------------------\u001b[0m",
      "\u001b[1;31mAssertionError\u001b[0m                            Traceback (most recent call last)",
      "\u001b[1;32m<ipython-input-44-e8bb44fd7207>\u001b[0m in \u001b[0;36m<module>\u001b[1;34m\u001b[0m\n\u001b[1;32m----> 1\u001b[1;33m \u001b[0mshowpics\u001b[0m\u001b[1;33m(\u001b[0m\u001b[0mimglist\u001b[0m\u001b[1;33m,\u001b[0m \u001b[0morglist\u001b[0m\u001b[1;33m,\u001b[0m \u001b[1;36m40\u001b[0m\u001b[1;33m)\u001b[0m\u001b[1;33m\u001b[0m\u001b[1;33m\u001b[0m\u001b[0m\n\u001b[0m",
      "\u001b[1;32m<ipython-input-42-8640eded05a1>\u001b[0m in \u001b[0;36mshowpics\u001b[1;34m(chrlist, orglist, lastpics)\u001b[0m\n\u001b[0;32m      5\u001b[0m \u001b[1;32mdef\u001b[0m \u001b[0mshowpics\u001b[0m\u001b[1;33m(\u001b[0m\u001b[0mchrlist\u001b[0m\u001b[1;33m,\u001b[0m \u001b[0morglist\u001b[0m\u001b[1;33m,\u001b[0m \u001b[0mlastpics\u001b[0m\u001b[1;33m=\u001b[0m\u001b[1;36m10\u001b[0m\u001b[1;33m)\u001b[0m\u001b[1;33m:\u001b[0m\u001b[1;33m\u001b[0m\u001b[1;33m\u001b[0m\u001b[0m\n\u001b[0;32m      6\u001b[0m \u001b[1;33m\u001b[0m\u001b[0m\n\u001b[1;32m----> 7\u001b[1;33m     \u001b[1;32massert\u001b[0m \u001b[0mlastpics\u001b[0m \u001b[1;33m<=\u001b[0m \u001b[0mlen\u001b[0m\u001b[1;33m(\u001b[0m\u001b[0mchrlist\u001b[0m\u001b[1;33m)\u001b[0m\u001b[1;33m\u001b[0m\u001b[1;33m\u001b[0m\u001b[0m\n\u001b[0m\u001b[0;32m      8\u001b[0m     \u001b[1;32massert\u001b[0m \u001b[0mlen\u001b[0m\u001b[1;33m(\u001b[0m\u001b[0mchrlist\u001b[0m\u001b[1;33m)\u001b[0m \u001b[1;33m==\u001b[0m \u001b[0mlen\u001b[0m\u001b[1;33m(\u001b[0m\u001b[0morglist\u001b[0m\u001b[1;33m)\u001b[0m\u001b[1;33m\u001b[0m\u001b[1;33m\u001b[0m\u001b[0m\n\u001b[0;32m      9\u001b[0m     \u001b[0mchrtail\u001b[0m \u001b[1;33m=\u001b[0m \u001b[0mchrlist\u001b[0m\u001b[1;33m[\u001b[0m\u001b[0mlen\u001b[0m\u001b[1;33m(\u001b[0m\u001b[0mchrlist\u001b[0m\u001b[1;33m)\u001b[0m\u001b[1;33m-\u001b[0m\u001b[0mlastpics\u001b[0m\u001b[1;33m:\u001b[0m\u001b[1;33m]\u001b[0m\u001b[1;33m\u001b[0m\u001b[1;33m\u001b[0m\u001b[0m\n",
      "\u001b[1;31mAssertionError\u001b[0m: "
     ]
    }
   ],
   "source": [
    "showpics(imglist, orglist, 40)"
   ]
  },
  {
   "cell_type": "code",
   "execution_count": 57,
   "metadata": {},
   "outputs": [],
   "source": [
    "#np.set_printoptions(threshold=np.inf)\n",
    "#print(imglist[0])"
   ]
  },
  {
   "cell_type": "code",
   "execution_count": null,
   "metadata": {},
   "outputs": [],
   "source": []
  }
 ],
 "metadata": {
  "kernelspec": {
   "display_name": "Python 3",
   "language": "python",
   "name": "python3"
  },
  "language_info": {
   "codemirror_mode": {
    "name": "ipython",
    "version": 3
   },
   "file_extension": ".py",
   "mimetype": "text/x-python",
   "name": "python",
   "nbconvert_exporter": "python",
   "pygments_lexer": "ipython3",
   "version": "3.7.4"
  }
 },
 "nbformat": 4,
 "nbformat_minor": 2
}
